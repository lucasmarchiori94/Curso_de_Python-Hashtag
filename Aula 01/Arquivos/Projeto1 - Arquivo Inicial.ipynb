{
 "cells": [
  {
   "cell_type": "code",
   "execution_count": null,
   "id": "14cbeaff",
   "metadata": {},
   "outputs": [],
   "source": []
  },
  {
   "cell_type": "code",
   "execution_count": null,
   "id": "3de1e039",
   "metadata": {},
   "outputs": [],
   "source": []
  },
  {
   "cell_type": "markdown",
   "id": "a7447279",
   "metadata": {},
   "source": [
    "# Automação de Sistemas e Processos com Python\n",
    "\n",
    "### Desafio:\n",
    "\n",
    "Para controle de custos, todos os dias, seu chefe pede um relatório com todas as compras de mercadorias da empresa.\n",
    "O seu trabalho, como analista, é enviar um e-mail para ele, assim que começar a trabalhar, com o total gasto, a quantidade de produtos compradas e o preço médio dos produtos.\n",
    "\n",
    "E-mail do seu chefe: para o nosso exercício, coloque um e-mail seu como sendo o e-mail do seu chefe<br>\n",
    "Link de acesso ao sistema da empresa: https://pages.hashtagtreinamentos.com/aula1-intensivao-sistema\n",
    "\n",
    "Para resolver isso, vamos usar o pyautogui, uma biblioteca de automação de comandos do mouse e do teclado"
   ]
  },
  {
   "cell_type": "code",
   "execution_count": 1,
   "id": "ca33d7af",
   "metadata": {},
   "outputs": [
    {
     "name": "stdout",
     "output_type": "stream",
     "text": [
      "Defaulting to user installation because normal site-packages is not writeable\n",
      "Requirement already satisfied: pyautogui in /home/suporteti/.local/lib/python3.10/site-packages (0.9.53)\n",
      "Requirement already satisfied: python3-Xlib in /home/suporteti/.local/lib/python3.10/site-packages (from pyautogui) (0.15)\n",
      "Requirement already satisfied: PyTweening>=1.0.1 in /home/suporteti/.local/lib/python3.10/site-packages (from pyautogui) (1.0.4)\n",
      "Requirement already satisfied: pygetwindow>=0.0.5 in /home/suporteti/.local/lib/python3.10/site-packages (from pyautogui) (0.0.9)\n",
      "Requirement already satisfied: pyscreeze>=0.1.21 in /home/suporteti/.local/lib/python3.10/site-packages (from pyautogui) (0.1.28)\n",
      "Requirement already satisfied: mouseinfo in /home/suporteti/.local/lib/python3.10/site-packages (from pyautogui) (0.1.3)\n",
      "Requirement already satisfied: pymsgbox in /home/suporteti/.local/lib/python3.10/site-packages (from pyautogui) (1.0.9)\n",
      "Requirement already satisfied: pyrect in /home/suporteti/.local/lib/python3.10/site-packages (from pygetwindow>=0.0.5->pyautogui) (0.2.0)\n",
      "Requirement already satisfied: pyperclip in /home/suporteti/.local/lib/python3.10/site-packages (from mouseinfo->pyautogui) (1.8.2)\n"
     ]
    }
   ],
   "source": [
    "!pip install pyautogui"
   ]
  },
  {
   "cell_type": "code",
   "execution_count": 38,
   "id": "62fa9ee7",
   "metadata": {},
   "outputs": [],
   "source": [
    "#Link com os comandos do pyautogui: https://pyautogui.readthedocs.io/en/latest/quickstart.html\n",
    "#importações feitas\n",
    "import pyautogui \n",
    "import time \n",
    "\n",
    "## Comandos ##\n",
    "    #pyautogui.click com mouse\n",
    "    #pyautogui.write -> Escreve algo\n",
    "    #pyautogui.press -> apertar uma tecla\n",
    "    #pyautogui.hotkey -> aperta uma seguencia de teclas\n",
    "    #pyautogui.position -> captura a posição de x e y do ponteiro do mouse\n",
    "    #pyautogui.PAUSE -> Faz uma pausa na execução de cada linha do código\n",
    "      \n",
    "   \n",
    "    ##-passo a passo-##\n",
    "\n",
    "#passo 1: Entrar no sistema da empresa (link)\n",
    "pyautogui.PAUSE = 0.5\n",
    "pyautogui.hotkey(\"ctrl\", \"t\")\n",
    "pyautogui.write(\"https://pages.hashtagtreinamentos.com/aula1-intensivao-sistema\")\n",
    "pyautogui.press(\"enter\")\n",
    "\n",
    "#passo 1.1: Pode ser que o navegador precise carregar\n",
    "time.sleep(5)\n",
    "\n",
    "\n",
    "#passo 2: fazer login\n",
    "\n",
    "#passo 2.2: Clicar na caixa de login\n",
    "    \n",
    "pyautogui.click(x=790, y=401)\n",
    "\n",
    "#passo 2.3: Escrever login\n",
    "\n",
    "pyautogui.write(\"meu_login\")\n",
    "\n",
    "#passo 2.4: Esrever a senha\n",
    "\n",
    "pyautogui.click(x=783, y=482)\n",
    "pyautogui.write(\"minha_senha\")\n",
    "\n",
    "#passo 2.5: Clicar em acessar\n",
    "\n",
    "pyautogui.click(x=851, y=554)\n",
    "\n",
    "#passo 3: Exportar base de dados\n",
    "\n",
    "time.sleep(5)\n",
    "pyautogui.click(x=336, y=300)\n",
    "time.sleep(5)\n",
    "pyautogui.click(x=630, y=214)\n",
    "time.sleep(5)\n",
    "pyautogui.click(x=723, y=588)\n",
    "        \n",
    "    \n",
    "        "
   ]
  },
  {
   "cell_type": "code",
   "execution_count": 35,
   "id": "c854874a",
   "metadata": {},
   "outputs": [
    {
     "name": "stdout",
     "output_type": "stream",
     "text": [
      "Point(x=1266, y=61)\n"
     ]
    }
   ],
   "source": [
    "time.sleep(5)\n",
    "print(pyautogui.position())"
   ]
  },
  {
   "cell_type": "code",
   "execution_count": null,
   "id": "00777cf9",
   "metadata": {},
   "outputs": [],
   "source": []
  }
 ],
 "metadata": {
  "kernelspec": {
   "display_name": "Python 3 (ipykernel)",
   "language": "python",
   "name": "python3"
  },
  "language_info": {
   "codemirror_mode": {
    "name": "ipython",
    "version": 3
   },
   "file_extension": ".py",
   "mimetype": "text/x-python",
   "name": "python",
   "nbconvert_exporter": "python",
   "pygments_lexer": "ipython3",
   "version": "3.10.6"
  }
 },
 "nbformat": 4,
 "nbformat_minor": 5
}
